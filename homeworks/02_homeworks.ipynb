{
 "cells": [
  {
   "cell_type": "code",
   "execution_count": 1028,
   "id": "7fe2f9c8",
   "metadata": {},
   "outputs": [],
   "source": [
    "import numpy as np\n",
    "import pandas as pd"
   ]
  },
  {
   "cell_type": "code",
   "execution_count": 1029,
   "id": "94e610de",
   "metadata": {},
   "outputs": [],
   "source": [
    "car_df = pd.read_csv('../dataset/car_fuel_efficiency.csv')"
   ]
  },
  {
   "cell_type": "code",
   "execution_count": 1030,
   "id": "29ec986c",
   "metadata": {},
   "outputs": [
    {
     "data": {
      "text/plain": [
       "Index(['engine_displacement', 'num_cylinders', 'horsepower', 'vehicle_weight',\n",
       "       'acceleration', 'model_year', 'origin', 'fuel_type', 'drivetrain',\n",
       "       'num_doors', 'fuel_efficiency_mpg'],\n",
       "      dtype='object')"
      ]
     },
     "execution_count": 1030,
     "metadata": {},
     "output_type": "execute_result"
    }
   ],
   "source": [
    "car_df.columns"
   ]
  },
  {
   "cell_type": "code",
   "execution_count": 1031,
   "id": "47aecf5b",
   "metadata": {},
   "outputs": [],
   "source": [
    "car_df = car_df[['engine_displacement', 'horsepower', 'vehicle_weight', 'model_year', 'fuel_efficiency_mpg']]"
   ]
  },
  {
   "cell_type": "markdown",
   "id": "31e4361c",
   "metadata": {},
   "source": [
    "EDA"
   ]
  },
  {
   "cell_type": "code",
   "execution_count": 1032,
   "id": "0b44cceb",
   "metadata": {},
   "outputs": [
    {
     "data": {
      "text/plain": [
       "<Axes: >"
      ]
     },
     "execution_count": 1032,
     "metadata": {},
     "output_type": "execute_result"
    },
    {
     "data": {
      "image/png": "[encoded data removed]",
      "text/plain": [
       "<Figure size 640x480 with 1 Axes>"
      ]
     },
     "metadata": {},
     "output_type": "display_data"
    }
   ],
   "source": [
    "car_df['fuel_efficiency_mpg'].hist(bins=50)\n",
    "\n",
    "# fuel efficiency does not have a long tail, in fact it is in normal distribution"
   ]
  },
  {
   "cell_type": "code",
   "execution_count": 1033,
   "id": "49372cb8",
   "metadata": {},
   "outputs": [
    {
     "data": {
      "text/plain": [
       "engine_displacement      0\n",
       "horsepower             708\n",
       "vehicle_weight           0\n",
       "model_year               0\n",
       "fuel_efficiency_mpg      0\n",
       "dtype: int64"
      ]
     },
     "execution_count": 1033,
     "metadata": {},
     "output_type": "execute_result"
    }
   ],
   "source": [
    "car_df.isna().sum()\n",
    "\n",
    "# horsepower column has missing values"
   ]
  },
  {
   "cell_type": "code",
   "execution_count": 1034,
   "id": "39262e7a",
   "metadata": {},
   "outputs": [
    {
     "data": {
      "text/plain": [
       "149.0"
      ]
     },
     "execution_count": 1034,
     "metadata": {},
     "output_type": "execute_result"
    }
   ],
   "source": [
    "car_df['horsepower'].median()"
   ]
  },
  {
   "cell_type": "code",
   "execution_count": 1035,
   "id": "ec5d66ac",
   "metadata": {},
   "outputs": [],
   "source": [
    "def prepare_X(df, fillna = 0):\n",
    "\n",
    "    df = df.copy()\n",
    "\n",
    "    df['horsepower'] = df['horsepower'].fillna(fillna)\n",
    "\n",
    "    return df\n",
    "\n",
    "def train_linear_regression(X, y):\n",
    "\n",
    "    ones = np.ones(X.shape[0])\n",
    "\n",
    "    X = np.column_stack([ones, X])\n",
    "\n",
    "    XTX = X.T.dot(X)\n",
    "\n",
    "    XTX_inv = np.linalg.inv(XTX)\n",
    "    \n",
    "    w_full = XTX_inv.dot(X.T).dot(y)\n",
    "\n",
    "    return w_full[0], w_full[1:]\n",
    "\n",
    "def rmse(y, y_pred):\n",
    "\n",
    "    error_sq = (y - y_pred) ** 2\n",
    "\n",
    "    es_mean = error_sq.mean()\n",
    "\n",
    "    return np.sqrt(es_mean)"
   ]
  },
  {
   "cell_type": "code",
   "execution_count": 1036,
   "id": "0ce4b0d9",
   "metadata": {},
   "outputs": [],
   "source": [
    "n = car_df.shape[0]\n",
    "\n",
    "n_val = int(n * 0.2)\n",
    "\n",
    "n_test = int(n * 0.2)\n",
    "\n",
    "n_train = n - (n_val + n_test) "
   ]
  },
  {
   "cell_type": "code",
   "execution_count": 1037,
   "id": "2112601a",
   "metadata": {},
   "outputs": [],
   "source": [
    "idx = np.arange(n)\n",
    "\n",
    "np.random.seed(42)\n",
    "\n",
    "np.random.shuffle(idx)"
   ]
  },
  {
   "cell_type": "code",
   "execution_count": 1038,
   "id": "ec07f33b",
   "metadata": {},
   "outputs": [],
   "source": [
    "df_train = car_df.iloc[idx[:n_train]]\n",
    "\n",
    "df_val = car_df.loc[idx[n_train:n_train+n_val]]\n",
    "\n",
    "df_test = car_df.loc[idx[n_train+n_val:]]\n",
    "\n",
    "y_train = df_train['fuel_efficiency_mpg']\n",
    "\n",
    "y_val = df_val['fuel_efficiency_mpg']\n",
    "\n",
    "y_test = df_test['fuel_efficiency_mpg']"
   ]
  },
  {
   "cell_type": "code",
   "execution_count": 1039,
   "id": "02ad7f3b",
   "metadata": {},
   "outputs": [
    {
     "data": {
      "text/plain": [
       "(5824, 1940, 1940)"
      ]
     },
     "execution_count": 1039,
     "metadata": {},
     "output_type": "execute_result"
    }
   ],
   "source": [
    "len(df_train), len(df_val), len(df_test)"
   ]
  },
  {
   "cell_type": "code",
   "execution_count": 1040,
   "id": "14e4c883",
   "metadata": {},
   "outputs": [
    {
     "data": {
      "text/plain": [
       "(5824, 1940, 1940)"
      ]
     },
     "execution_count": 1040,
     "metadata": {},
     "output_type": "execute_result"
    }
   ],
   "source": [
    "len(y_train), len(y_val), len(y_test)"
   ]
  },
  {
   "cell_type": "code",
   "execution_count": 1041,
   "id": "2fa4a591",
   "metadata": {},
   "outputs": [],
   "source": [
    "del df_train['fuel_efficiency_mpg']\n",
    "\n",
    "del df_val['fuel_efficiency_mpg']\n",
    "\n",
    "del df_test['fuel_efficiency_mpg']"
   ]
  },
  {
   "cell_type": "code",
   "execution_count": 1042,
   "id": "767cf483",
   "metadata": {},
   "outputs": [],
   "source": [
    "X_train = df_train.copy().fillna(0)\n",
    "\n",
    "w0, w = train_linear_regression(X_train, y_train)\n",
    "\n",
    "X_val = df_val.fillna(0)\n",
    "\n",
    "y_pred =  w0 + X_val.dot(w)\n",
    "\n",
    "rmse_zero = rmse(y_val, y_pred)"
   ]
  },
  {
   "cell_type": "code",
   "execution_count": 1043,
   "id": "73409c75",
   "metadata": {},
   "outputs": [
    {
     "data": {
      "text/plain": [
       "(5824, 5824)"
      ]
     },
     "execution_count": 1043,
     "metadata": {},
     "output_type": "execute_result"
    }
   ],
   "source": [
    "len(X_train), len(y_train)"
   ]
  },
  {
   "cell_type": "code",
   "execution_count": 1044,
   "id": "a703bfa5",
   "metadata": {},
   "outputs": [],
   "source": [
    "train_hp_mean = df_train['horsepower'].mean()\n",
    "\n",
    "X_train = prepare_X(df_train, df_train['horsepower'].mean())\n",
    "\n",
    "w0, w = train_linear_regression(X_train, y_train)\n",
    "\n",
    "X_val = prepare_X(df_val, df_val['horsepower'].mean())\n",
    "\n",
    "y_pred =  w0 + X_val.dot(w)\n",
    "\n",
    "rmse_mean = rmse(y_val, y_pred)"
   ]
  },
  {
   "cell_type": "code",
   "execution_count": 1045,
   "id": "447e9ff4",
   "metadata": {},
   "outputs": [
    {
     "data": {
      "text/plain": [
       "(np.float64(0.517), np.float64(0.464))"
      ]
     },
     "execution_count": 1045,
     "metadata": {},
     "output_type": "execute_result"
    }
   ],
   "source": [
    "round(rmse_zero, 3), round(rmse_mean, 3)\n",
    "\n",
    "# mean is better"
   ]
  },
  {
   "cell_type": "code",
   "execution_count": 1046,
   "id": "814ce94e",
   "metadata": {},
   "outputs": [],
   "source": [
    "def train_linear_regression_reg(X, y, r=0.01):\n",
    "\n",
    "    ones = np.ones(X.shape[0])\n",
    "\n",
    "    X = np.column_stack([ones, X])\n",
    "\n",
    "    XTX = X.T.dot(X)\n",
    "\n",
    "    XTX = XTX + r * np.eye(XTX.shape[0]) \n",
    "\n",
    "    XTX_inv = np.linalg.inv(XTX)\n",
    "\n",
    "    w_full = XTX_inv.dot(X.T).dot(y)\n",
    "\n",
    "    return w_full[0], w_full[1:]"
   ]
  },
  {
   "cell_type": "code",
   "execution_count": 1047,
   "id": "b07732b7",
   "metadata": {},
   "outputs": [
    {
     "name": "stdout",
     "output_type": "stream",
     "text": [
      "0 0.52\n",
      "0.01 0.52\n",
      "0.1 0.52\n",
      "1 0.52\n",
      "5 0.52\n",
      "10 0.52\n",
      "100 0.52\n"
     ]
    },
    {
     "data": {
      "text/plain": [
       "(0, np.float64(0.52))"
      ]
     },
     "execution_count": 1047,
     "metadata": {},
     "output_type": "execute_result"
    }
   ],
   "source": [
    "rmse_list = []\n",
    "\n",
    "r_list = [0, 0.01, 0.1, 1, 5, 10, 100]\n",
    "\n",
    "X_train = prepare_X(df_train)\n",
    "\n",
    "X_val = prepare_X(df_val)\n",
    "\n",
    "for r in r_list:\n",
    "\n",
    "    w0, w = train_linear_regression_reg(X_train, y_train, r=r)\n",
    "\n",
    "    y_pred =  w0 + X_val.dot(w)\n",
    "\n",
    "    rmse_val = round(rmse(y_val, y_pred), 2)\n",
    "\n",
    "    rmse_list.append(rmse_val)\n",
    "\n",
    "    print(r, rmse_val)\n",
    "\n",
    "\n",
    "rmse_dict = dict(zip(r_list, rmse_list))\n",
    "\n",
    "min(rmse_dict.items(), key=lambda x: x[1])\n",
    "\n",
    "# Best r = 0"
   ]
  },
  {
   "cell_type": "code",
   "execution_count": 1048,
   "id": "9e8f0566",
   "metadata": {},
   "outputs": [],
   "source": [
    "scores = []\n",
    "\n",
    "idx = np.arange(n)\n",
    "\n",
    "for seed in range(10):\n",
    "    np.random.seed(seed)\n",
    "    np.random.shuffle(idx)\n",
    "\n",
    "    df_train = car_df.iloc[idx[:n_train]].copy()\n",
    "    df_val = car_df.iloc[idx[n_train:n_train+n_val]].copy()\n",
    "    df_test = car_df.iloc[idx[n_train+n_val:]].copy()\n",
    "\n",
    "    y_train = df_train.pop('fuel_efficiency_mpg')\n",
    "    y_val = df_val.pop('fuel_efficiency_mpg')\n",
    "    y_test = df_test.pop('fuel_efficiency_mpg')\n",
    "\n",
    "    X_train = prepare_X(df_train)\n",
    "    w0, w = train_linear_regression(X_train, y_train)\n",
    "\n",
    "    X_val = prepare_X(df_val)\n",
    "    y_pred = w0 + X_val.dot(w)\n",
    "\n",
    "    scores.append(rmse(y_val, y_pred))\n"
   ]
  },
  {
   "cell_type": "code",
   "execution_count": 1049,
   "id": "e4810605",
   "metadata": {},
   "outputs": [
    {
     "data": {
      "text/plain": [
       "np.float64(0.006)"
      ]
     },
     "execution_count": 1049,
     "metadata": {},
     "output_type": "execute_result"
    }
   ],
   "source": [
    "round(np.std(scores), 3)"
   ]
  },
  {
   "cell_type": "code",
   "execution_count": 1050,
   "id": "305e7f6d",
   "metadata": {},
   "outputs": [],
   "source": [
    "idx = np.arange(n)\n",
    "\n",
    "np.random.seed(9)\n",
    "\n",
    "np.random.shuffle(idx)\n",
    "\n",
    "df_train = car_df.iloc[idx[:n_train]]\n",
    "\n",
    "df_val = car_df.iloc[idx[n_train:n_train+n_val]]\n",
    "\n",
    "df_test = car_df.iloc[idx[n_train+n_val:]]"
   ]
  },
  {
   "cell_type": "code",
   "execution_count": 1051,
   "id": "4a9b97c2",
   "metadata": {},
   "outputs": [],
   "source": [
    "df_train_full = pd.concat([df_train, df_val]).reset_index(drop=True)\n",
    "\n",
    "y_train_full = df_train_full['fuel_efficiency_mpg']\n",
    "\n",
    "y_test = df_test['fuel_efficiency_mpg']"
   ]
  },
  {
   "cell_type": "code",
   "execution_count": 1052,
   "id": "b0ad30c1",
   "metadata": {},
   "outputs": [],
   "source": [
    "del df_train_full['fuel_efficiency_mpg']\n",
    "\n",
    "del df_test['fuel_efficiency_mpg']"
   ]
  },
  {
   "cell_type": "code",
   "execution_count": 1053,
   "id": "43d5e7fe",
   "metadata": {},
   "outputs": [
    {
     "data": {
      "text/plain": [
       "np.float64(0.5156261299185867)"
      ]
     },
     "execution_count": 1053,
     "metadata": {},
     "output_type": "execute_result"
    }
   ],
   "source": [
    "X_train = prepare_X(df_train_full)\n",
    "\n",
    "w0, w = train_linear_regression_reg(X_train, y_train_full, r=0.001)\n",
    "\n",
    "X_test = prepare_X(df_test)\n",
    "\n",
    "y_pred =  w0 + X_test.dot(w)\n",
    "\n",
    "rmse(y_test, y_pred)"
   ]
  }
 ],
 "metadata": {
  "kernelspec": {
   "display_name": "base",
   "language": "python",
   "name": "python3"
  },
  "language_info": {
   "codemirror_mode": {
    "name": "ipython",
    "version": 3
   },
   "file_extension": ".py",
   "mimetype": "text/x-python",
   "name": "python",
   "nbconvert_exporter": "python",
   "pygments_lexer": "ipython3",
   "version": "3.13.5"
  }
 },
 "nbformat": 4,
 "nbformat_minor": 5
}
