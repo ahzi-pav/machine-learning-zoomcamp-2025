{
 "cells": [
  {
   "cell_type": "markdown",
   "id": "b5eca10e",
   "metadata": {},
   "source": [
    "# Import necessary libraries"
   ]
  },
  {
   "cell_type": "code",
   "execution_count": 18,
   "id": "cb901a3e",
   "metadata": {},
   "outputs": [],
   "source": [
    "import pandas as pd\n",
    "import numpy as np\n",
    "import matplotlib.pyplot as plt\n",
    "\n",
    "from sklearn.model_selection import train_test_split\n",
    "from sklearn.model_selection import KFold\n",
    "\n",
    "from sklearn.metrics import roc_auc_score, confusion_matrix, precision_recall_fscore_support, classification_report, roc_curve, accuracy_score\n",
    "from sklearn.linear_model import LogisticRegression \n",
    "import pickle\n",
    "\n",
    "import json"
   ]
  },
  {
   "cell_type": "markdown",
   "id": "4b1dd459",
   "metadata": {},
   "source": [
    "# Data Transformation\n",
    "\n",
    "    Normalizing column headers and columns with object datatypes\n",
    "\n",
    "    Handling null values for both numerical and categorical columns\n",
    "\n",
    "    Applying one-hot encoding on the dataset"
   ]
  },
  {
   "cell_type": "code",
   "execution_count": 19,
   "id": "e94b3044",
   "metadata": {},
   "outputs": [],
   "source": [
    "df = pd.read_csv('../dataset/telco_customer_churn.csv')\n",
    "\n",
    "df.columns = df.columns.str.strip().str.lower().str.replace(\" \", \"_\")\n",
    "\n",
    "df = df.apply(lambda x: x.str.strip().str.lower().str.replace(\" \", \"_\") if x.dtype == 'object' else x)"
   ]
  },
  {
   "cell_type": "code",
   "execution_count": 20,
   "id": "635fb3c0",
   "metadata": {},
   "outputs": [],
   "source": [
    "df['seniorcitizen'] = df['seniorcitizen'].apply(lambda x: 'yes' if x == 1 else 'no')"
   ]
  },
  {
   "cell_type": "code",
   "execution_count": 21,
   "id": "967462cc",
   "metadata": {},
   "outputs": [],
   "source": [
    "categorical_cols = [\n",
    "    'gender', 'seniorcitizen', 'partner', 'dependents', 'phoneservice',\n",
    "    'multiplelines', 'internetservice', 'onlinesecurity', 'onlinebackup',\n",
    "    'deviceprotection', 'techsupport', 'streamingtv', 'streamingmovies',\n",
    "    'contract', 'paperlessbilling', 'paymentmethod'\n",
    "]\n",
    "\n",
    "numerical_cols = ['tenure', 'monthlycharges', 'totalcharges']\n",
    "\n",
    "dependent_var = 'churn'"
   ]
  },
  {
   "cell_type": "code",
   "execution_count": 22,
   "id": "e947a67f",
   "metadata": {},
   "outputs": [],
   "source": [
    "df[dependent_var] = df[dependent_var].apply(lambda x: 1 if x == 'yes' else 0).astype(int)\n",
    "\n",
    "df[numerical_cols] = df[numerical_cols].apply(pd.to_numeric, errors='coerce')\n",
    "\n",
    "df[categorical_cols] = df[categorical_cols].fillna('NA')\n",
    "\n",
    "df[numerical_cols] = df[numerical_cols].fillna(0)"
   ]
  },
  {
   "cell_type": "code",
   "execution_count": 23,
   "id": "916ed99b",
   "metadata": {},
   "outputs": [],
   "source": [
    "X = pd.get_dummies(df[numerical_cols + categorical_cols])\n",
    "\n",
    "y = df[dependent_var]"
   ]
  },
  {
   "cell_type": "markdown",
   "id": "667d9c1a",
   "metadata": {},
   "source": [
    "# Prepare for Training\n",
    "\n",
    "    Split the data into Training, Validation, and Testing Datasets\n",
    "\n",
    "    Prepare Xs (independent vars) and Y (dependent var)\n"
   ]
  },
  {
   "cell_type": "code",
   "execution_count": 24,
   "id": "8b77550b",
   "metadata": {},
   "outputs": [],
   "source": [
    "X_full_train, X_test, y_full_train, y_test = train_test_split(\n",
    "    X,\n",
    "    y, \n",
    "    test_size=0.2, \n",
    "    random_state=1, \n",
    "    stratify=y\n",
    ")\n",
    "\n",
    "X_train, X_val, y_train, y_val = train_test_split(\n",
    "    X_full_train,\n",
    "    y_full_train,\n",
    "    test_size=0.25,\n",
    "    random_state=1,\n",
    "    stratify=y_full_train\n",
    ")"
   ]
  },
  {
   "cell_type": "markdown",
   "id": "afdc9c36",
   "metadata": {},
   "source": [
    "# Create a training and validation framework\n",
    "\n",
    "    Declare the model to be used\n",
    "\n",
    "    Declare metrics to be shown"
   ]
  },
  {
   "cell_type": "code",
   "execution_count": 25,
   "id": "64019a76",
   "metadata": {},
   "outputs": [],
   "source": [
    "def train_logistic_regression(X, y, C = 1):\n",
    "    \n",
    "    model = LogisticRegression(max_iter=5000, C=C)\n",
    "\n",
    "    model.fit(X, y)\n",
    "\n",
    "    return model"
   ]
  },
  {
   "cell_type": "code",
   "execution_count": 26,
   "id": "e7445d3f",
   "metadata": {},
   "outputs": [],
   "source": [
    "def predict(model, X, threshold = 0.5):\n",
    "\n",
    "    y_proba = model.predict_proba(X)[:, 1]\n",
    "\n",
    "    return (y_proba >= threshold).astype(int), y_proba"
   ]
  },
  {
   "cell_type": "markdown",
   "id": "4de3c71c",
   "metadata": {},
   "source": [
    "# Cross Validation\n",
    "\n",
    "    Check model performance for threshhold range\n",
    "\n",
    "    Check model performance for Kfold = 5"
   ]
  },
  {
   "cell_type": "code",
   "execution_count": 27,
   "id": "7f974a12",
   "metadata": {},
   "outputs": [],
   "source": [
    "thresholds = np.arange(0, 1, 0.1)\n",
    "\n",
    "trained_model = train_logistic_regression(X_train, y_train)\n",
    "\n",
    "t_scores = []"
   ]
  },
  {
   "cell_type": "code",
   "execution_count": 28,
   "id": "356b91b7",
   "metadata": {},
   "outputs": [
    {
     "name": "stdout",
     "output_type": "stream",
     "text": [
      "t = 0.0, auc = 0.2654364797728886\n",
      "t = 0.1, auc = 0.6295244854506742\n",
      "t = 0.2, auc = 0.7104329311568488\n",
      "t = 0.30000000000000004, auc = 0.7636621717530163\n",
      "t = 0.4, auc = 0.7877927608232789\n",
      "t = 0.5, auc = 0.8069552874378992\n",
      "t = 0.6000000000000001, auc = 0.7970191625266146\n",
      "t = 0.7000000000000001, auc = 0.7735982966643009\n",
      "t = 0.8, auc = 0.7388218594748048\n",
      "t = 0.9, auc = 0.7345635202271115\n"
     ]
    }
   ],
   "source": [
    "for t in thresholds:\n",
    "\n",
    "    y_pred, y_proba = predict(trained_model, X_val, threshold=t)\n",
    "\n",
    "    auc = accuracy_score(y_val, y_pred)\n",
    "    \n",
    "    print(f't = {t}, auc = {auc}')"
   ]
  },
  {
   "cell_type": "code",
   "execution_count": 29,
   "id": "fd81ddec",
   "metadata": {},
   "outputs": [],
   "source": [
    "n_splits = 5\n",
    "\n",
    "scores = []"
   ]
  },
  {
   "cell_type": "code",
   "execution_count": 30,
   "id": "5a3a345c",
   "metadata": {},
   "outputs": [],
   "source": [
    "kfold = KFold(n_splits=n_splits, shuffle=True, random_state=1)\n",
    "\n",
    "for train_idx, val_idx in kfold.split(X_full_train, y_full_train):\n",
    "\n",
    "    X_train, X_val = X_full_train.iloc[train_idx], X_full_train.iloc[val_idx]\n",
    "\n",
    "    y_train, y_val = y_full_train.iloc[train_idx].values, y_full_train.iloc[val_idx].values\n",
    "\n",
    "    model = train_logistic_regression(X_train, y_train)\n",
    "\n",
    "    y_pred, y_proba = predict(model, X_val, threshold=0.5)\n",
    "\n",
    "    auc = accuracy_score(y_val, y_pred)\n",
    "\n",
    "    scores.append(auc)"
   ]
  },
  {
   "cell_type": "code",
   "execution_count": 31,
   "id": "df2c14bc",
   "metadata": {},
   "outputs": [
    {
     "name": "stdout",
     "output_type": "stream",
     "text": [
      "mean_auc: 0.8028056693370065\n",
      "std_auc: 0.011635031992423944\n"
     ]
    }
   ],
   "source": [
    "print(f'mean_auc: {np.mean(scores)}')\n",
    "print(f'std_auc: {np.std(scores)}')"
   ]
  },
  {
   "cell_type": "markdown",
   "id": "c5eaacb7",
   "metadata": {},
   "source": [
    "# Training for Final Model\n",
    "\n",
    "    Use full training and test datasets\n",
    "\n",
    "    Use threshold = 0.5 "
   ]
  },
  {
   "cell_type": "code",
   "execution_count": 32,
   "id": "b3452ed4",
   "metadata": {},
   "outputs": [],
   "source": [
    "model = train_logistic_regression(X_full_train, y_full_train)"
   ]
  },
  {
   "cell_type": "code",
   "execution_count": 33,
   "id": "ad8c13c4",
   "metadata": {},
   "outputs": [
    {
     "data": {
      "text/plain": [
       "(np.float64(0.8350280296571857), 0.8097941802696949)"
      ]
     },
     "execution_count": 33,
     "metadata": {},
     "output_type": "execute_result"
    }
   ],
   "source": [
    "y_pred, y_proba = predict(model, X_test, threshold = 0.5)\n",
    "\n",
    "roc = roc_auc_score(y_test, y_proba)\n",
    "auc = accuracy_score(y_test, y_pred)\n",
    "\n",
    "roc, auc"
   ]
  },
  {
   "cell_type": "markdown",
   "id": "6631a438",
   "metadata": {},
   "source": [
    "# Exporting Model"
   ]
  },
  {
   "cell_type": "code",
   "execution_count": 34,
   "id": "c0c7875d",
   "metadata": {},
   "outputs": [],
   "source": [
    "output_file = 'model_C=1.bin'\n",
    "\n",
    "with open(output_file, 'wb') as f_out:\n",
    "\n",
    "    pickle.dump(model, f_out)"
   ]
  }
 ],
 "metadata": {
  "kernelspec": {
   "display_name": "base",
   "language": "python",
   "name": "python3"
  },
  "language_info": {
   "codemirror_mode": {
    "name": "ipython",
    "version": 3
   },
   "file_extension": ".py",
   "mimetype": "text/x-python",
   "name": "python",
   "nbconvert_exporter": "python",
   "pygments_lexer": "ipython3",
   "version": "3.13.5"
  }
 },
 "nbformat": 4,
 "nbformat_minor": 5
}
